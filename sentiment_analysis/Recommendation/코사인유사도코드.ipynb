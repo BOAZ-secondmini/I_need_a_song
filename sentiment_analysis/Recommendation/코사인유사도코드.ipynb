{
 "cells": [
  {
   "cell_type": "code",
   "execution_count": 6,
   "id": "8d9ce1a3",
   "metadata": {},
   "outputs": [],
   "source": [
    "import pandas as pd\n",
    "import numpy as np\n",
    "import sklearn"
   ]
  },
  {
   "cell_type": "code",
   "execution_count": 3,
   "id": "b9e64f57",
   "metadata": {},
   "outputs": [
    {
     "name": "stdout",
     "output_type": "stream",
     "text": [
      "Requirement already satisfied: scikit-learn in /opt/homebrew/anaconda3/lib/python3.9/site-packages (1.1.1)\n",
      "Requirement already satisfied: scipy>=1.3.2 in /opt/homebrew/anaconda3/lib/python3.9/site-packages (from scikit-learn) (1.9.1)\n",
      "Requirement already satisfied: joblib>=1.0.0 in /opt/homebrew/anaconda3/lib/python3.9/site-packages (from scikit-learn) (1.1.0)\n",
      "Requirement already satisfied: threadpoolctl>=2.0.0 in /opt/homebrew/anaconda3/lib/python3.9/site-packages (from scikit-learn) (2.2.0)\n",
      "Requirement already satisfied: numpy>=1.17.3 in /opt/homebrew/anaconda3/lib/python3.9/site-packages (from scikit-learn) (1.21.5)\n",
      "Note: you may need to restart the kernel to use updated packages.\n"
     ]
    }
   ],
   "source": [
    "pip install scikit-learn"
   ]
  },
  {
   "cell_type": "code",
   "execution_count": 5,
   "id": "1396a8d1",
   "metadata": {},
   "outputs": [],
   "source": [
    "from sklearn.feature_extraction.text import TfidfVectorizer\n",
    "from sklearn.metrics.pairwise import cosine_similarity"
   ]
  },
  {
   "cell_type": "code",
   "execution_count": null,
   "id": "c06ce2e8",
   "metadata": {},
   "outputs": [],
   "source": []
  },
  {
   "cell_type": "markdown",
   "id": "7b97ce72",
   "metadata": {},
   "source": [
    "가사 텍스트 요약 -> \n",
    "Input 문장 긍/부정 분석 -> 확률 적용 -> 비슷한 감정인 노래만 추출 -> 그 중에서 코사인유사도를 통해 비교하여 노래 선정\n",
    "맞나???"
   ]
  },
  {
   "cell_type": "code",
   "execution_count": null,
   "id": "2f57e8c0",
   "metadata": {},
   "outputs": [],
   "source": []
  },
  {
   "cell_type": "markdown",
   "id": "771555d9",
   "metadata": {},
   "source": [
    "### 일단은,,, 탑100 데이터 가지고 했읍니당. 나중에 바꿀게여!"
   ]
  },
  {
   "cell_type": "code",
   "execution_count": 16,
   "id": "0dcf2296",
   "metadata": {},
   "outputs": [],
   "source": [
    "melon = pd.read_csv('Melon top 100.csv')"
   ]
  },
  {
   "cell_type": "code",
   "execution_count": 17,
   "id": "757272f6",
   "metadata": {},
   "outputs": [
    {
     "data": {
      "text/html": [
       "<div>\n",
       "<style scoped>\n",
       "    .dataframe tbody tr th:only-of-type {\n",
       "        vertical-align: middle;\n",
       "    }\n",
       "\n",
       "    .dataframe tbody tr th {\n",
       "        vertical-align: top;\n",
       "    }\n",
       "\n",
       "    .dataframe thead th {\n",
       "        text-align: right;\n",
       "    }\n",
       "</style>\n",
       "<table border=\"1\" class=\"dataframe\">\n",
       "  <thead>\n",
       "    <tr style=\"text-align: right;\">\n",
       "      <th></th>\n",
       "      <th>Unnamed: 0</th>\n",
       "      <th>제목</th>\n",
       "      <th>가수</th>\n",
       "      <th>가사</th>\n",
       "      <th>장르</th>\n",
       "    </tr>\n",
       "  </thead>\n",
       "  <tbody>\n",
       "    <tr>\n",
       "      <th>0</th>\n",
       "      <td>0</td>\n",
       "      <td>I AM</td>\n",
       "      <td>IVE (아이브)</td>\n",
       "      <td>다른 문을 열어 따라 갈 필요는 없어\\n넌 너의 길로 난 나의 길로 음\\n하루하루마...</td>\n",
       "      <td>댄스</td>\n",
       "    </tr>\n",
       "    <tr>\n",
       "      <th>1</th>\n",
       "      <td>1</td>\n",
       "      <td>UNFORGIVEN (feat. Nile Rodgers)</td>\n",
       "      <td>LE SSERAFIM (르세라핌)</td>\n",
       "      <td>Unforgiven I’m a villain I’m a\\nUnforgiven 난 그...</td>\n",
       "      <td>댄스</td>\n",
       "    </tr>\n",
       "    <tr>\n",
       "      <th>2</th>\n",
       "      <td>2</td>\n",
       "      <td>Spicy</td>\n",
       "      <td>aespa</td>\n",
       "      <td>Uh Uh Too Spicy\\nYou want my A to the Z\\nBut y...</td>\n",
       "      <td>댄스</td>\n",
       "    </tr>\n",
       "    <tr>\n",
       "      <th>3</th>\n",
       "      <td>3</td>\n",
       "      <td>Kitsch</td>\n",
       "      <td>IVE (아이브)</td>\n",
       "      <td>It's our time 우린 달라 특별한 게 좋아\\nOh What a good t...</td>\n",
       "      <td>댄스</td>\n",
       "    </tr>\n",
       "    <tr>\n",
       "      <th>4</th>\n",
       "      <td>4</td>\n",
       "      <td>퀸카 (Queencard)</td>\n",
       "      <td>(여자)아이들</td>\n",
       "      <td>Hey you\\n뭘 보니? 내가 좀 Sexy Sexy 반했니\\nYe you\\n뭐 하...</td>\n",
       "      <td>댄스</td>\n",
       "    </tr>\n",
       "  </tbody>\n",
       "</table>\n",
       "</div>"
      ],
      "text/plain": [
       "   Unnamed: 0                               제목                  가수  \\\n",
       "0           0                             I AM           IVE (아이브)   \n",
       "1           1  UNFORGIVEN (feat. Nile Rodgers)  LE SSERAFIM (르세라핌)   \n",
       "2           2                            Spicy               aespa   \n",
       "3           3                           Kitsch           IVE (아이브)   \n",
       "4           4                   퀸카 (Queencard)             (여자)아이들   \n",
       "\n",
       "                                                  가사  장르  \n",
       "0  다른 문을 열어 따라 갈 필요는 없어\\n넌 너의 길로 난 나의 길로 음\\n하루하루마...  댄스  \n",
       "1  Unforgiven I’m a villain I’m a\\nUnforgiven 난 그...  댄스  \n",
       "2  Uh Uh Too Spicy\\nYou want my A to the Z\\nBut y...  댄스  \n",
       "3  It's our time 우린 달라 특별한 게 좋아\\nOh What a good t...  댄스  \n",
       "4  Hey you\\n뭘 보니? 내가 좀 Sexy Sexy 반했니\\nYe you\\n뭐 하...  댄스  "
      ]
     },
     "execution_count": 17,
     "metadata": {},
     "output_type": "execute_result"
    }
   ],
   "source": [
    "melon.head()"
   ]
  },
  {
   "cell_type": "markdown",
   "id": "a7ef99a8",
   "metadata": {},
   "source": [
    "### '\\n' 제거"
   ]
  },
  {
   "cell_type": "code",
   "execution_count": 37,
   "id": "b4a7ec16",
   "metadata": {},
   "outputs": [],
   "source": [
    "melon.replace({'가사': {'\\n': ' '}}, inplace=True)"
   ]
  },
  {
   "cell_type": "code",
   "execution_count": 39,
   "id": "554fdb6a",
   "metadata": {},
   "outputs": [],
   "source": [
    "melon['가사'] = melon['가사'].str.replace('\\n', ' ')"
   ]
  },
  {
   "cell_type": "code",
   "execution_count": 40,
   "id": "8584ca72",
   "metadata": {
    "scrolled": true
   },
   "outputs": [
    {
     "data": {
      "text/html": [
       "<div>\n",
       "<style scoped>\n",
       "    .dataframe tbody tr th:only-of-type {\n",
       "        vertical-align: middle;\n",
       "    }\n",
       "\n",
       "    .dataframe tbody tr th {\n",
       "        vertical-align: top;\n",
       "    }\n",
       "\n",
       "    .dataframe thead th {\n",
       "        text-align: right;\n",
       "    }\n",
       "</style>\n",
       "<table border=\"1\" class=\"dataframe\">\n",
       "  <thead>\n",
       "    <tr style=\"text-align: right;\">\n",
       "      <th></th>\n",
       "      <th>Unnamed: 0</th>\n",
       "      <th>제목</th>\n",
       "      <th>가수</th>\n",
       "      <th>가사</th>\n",
       "      <th>장르</th>\n",
       "    </tr>\n",
       "  </thead>\n",
       "  <tbody>\n",
       "    <tr>\n",
       "      <th>0</th>\n",
       "      <td>0</td>\n",
       "      <td>I AM</td>\n",
       "      <td>IVE (아이브)</td>\n",
       "      <td>다른 문을 열어 따라 갈 필요는 없어 넌 너의 길로 난 나의 길로 음 하루하루마다 ...</td>\n",
       "      <td>댄스</td>\n",
       "    </tr>\n",
       "    <tr>\n",
       "      <th>1</th>\n",
       "      <td>1</td>\n",
       "      <td>UNFORGIVEN (feat. Nile Rodgers)</td>\n",
       "      <td>LE SSERAFIM (르세라핌)</td>\n",
       "      <td>Unforgiven I’m a villain I’m a Unforgiven 난 그 ...</td>\n",
       "      <td>댄스</td>\n",
       "    </tr>\n",
       "    <tr>\n",
       "      <th>2</th>\n",
       "      <td>2</td>\n",
       "      <td>Spicy</td>\n",
       "      <td>aespa</td>\n",
       "      <td>Uh Uh Too Spicy You want my A to the Z But you...</td>\n",
       "      <td>댄스</td>\n",
       "    </tr>\n",
       "    <tr>\n",
       "      <th>3</th>\n",
       "      <td>3</td>\n",
       "      <td>Kitsch</td>\n",
       "      <td>IVE (아이브)</td>\n",
       "      <td>It's our time 우린 달라 특별한 게 좋아 Oh What a good ti...</td>\n",
       "      <td>댄스</td>\n",
       "    </tr>\n",
       "    <tr>\n",
       "      <th>4</th>\n",
       "      <td>4</td>\n",
       "      <td>퀸카 (Queencard)</td>\n",
       "      <td>(여자)아이들</td>\n",
       "      <td>Hey you 뭘 보니? 내가 좀 Sexy Sexy 반했니 Ye you 뭐 하니? ...</td>\n",
       "      <td>댄스</td>\n",
       "    </tr>\n",
       "  </tbody>\n",
       "</table>\n",
       "</div>"
      ],
      "text/plain": [
       "   Unnamed: 0                               제목                  가수  \\\n",
       "0           0                             I AM           IVE (아이브)   \n",
       "1           1  UNFORGIVEN (feat. Nile Rodgers)  LE SSERAFIM (르세라핌)   \n",
       "2           2                            Spicy               aespa   \n",
       "3           3                           Kitsch           IVE (아이브)   \n",
       "4           4                   퀸카 (Queencard)             (여자)아이들   \n",
       "\n",
       "                                                  가사  장르  \n",
       "0  다른 문을 열어 따라 갈 필요는 없어 넌 너의 길로 난 나의 길로 음 하루하루마다 ...  댄스  \n",
       "1  Unforgiven I’m a villain I’m a Unforgiven 난 그 ...  댄스  \n",
       "2  Uh Uh Too Spicy You want my A to the Z But you...  댄스  \n",
       "3  It's our time 우린 달라 특별한 게 좋아 Oh What a good ti...  댄스  \n",
       "4  Hey you 뭘 보니? 내가 좀 Sexy Sexy 반했니 Ye you 뭐 하니? ...  댄스  "
      ]
     },
     "execution_count": 40,
     "metadata": {},
     "output_type": "execute_result"
    }
   ],
   "source": [
    "melon.head()"
   ]
  },
  {
   "cell_type": "markdown",
   "id": "a1415249",
   "metadata": {},
   "source": [
    "### 'Unnamed: 0' 제거"
   ]
  },
  {
   "cell_type": "code",
   "execution_count": 42,
   "id": "ef550a6e",
   "metadata": {},
   "outputs": [],
   "source": [
    "melon.drop(['Unnamed: 0'], axis=1, inplace=True)"
   ]
  },
  {
   "cell_type": "code",
   "execution_count": 43,
   "id": "f57f1a7e",
   "metadata": {},
   "outputs": [
    {
     "data": {
      "text/html": [
       "<div>\n",
       "<style scoped>\n",
       "    .dataframe tbody tr th:only-of-type {\n",
       "        vertical-align: middle;\n",
       "    }\n",
       "\n",
       "    .dataframe tbody tr th {\n",
       "        vertical-align: top;\n",
       "    }\n",
       "\n",
       "    .dataframe thead th {\n",
       "        text-align: right;\n",
       "    }\n",
       "</style>\n",
       "<table border=\"1\" class=\"dataframe\">\n",
       "  <thead>\n",
       "    <tr style=\"text-align: right;\">\n",
       "      <th></th>\n",
       "      <th>제목</th>\n",
       "      <th>가수</th>\n",
       "      <th>가사</th>\n",
       "      <th>장르</th>\n",
       "    </tr>\n",
       "  </thead>\n",
       "  <tbody>\n",
       "    <tr>\n",
       "      <th>0</th>\n",
       "      <td>I AM</td>\n",
       "      <td>IVE (아이브)</td>\n",
       "      <td>다른 문을 열어 따라 갈 필요는 없어 넌 너의 길로 난 나의 길로 음 하루하루마다 ...</td>\n",
       "      <td>댄스</td>\n",
       "    </tr>\n",
       "    <tr>\n",
       "      <th>1</th>\n",
       "      <td>UNFORGIVEN (feat. Nile Rodgers)</td>\n",
       "      <td>LE SSERAFIM (르세라핌)</td>\n",
       "      <td>Unforgiven I’m a villain I’m a Unforgiven 난 그 ...</td>\n",
       "      <td>댄스</td>\n",
       "    </tr>\n",
       "    <tr>\n",
       "      <th>2</th>\n",
       "      <td>Spicy</td>\n",
       "      <td>aespa</td>\n",
       "      <td>Uh Uh Too Spicy You want my A to the Z But you...</td>\n",
       "      <td>댄스</td>\n",
       "    </tr>\n",
       "    <tr>\n",
       "      <th>3</th>\n",
       "      <td>Kitsch</td>\n",
       "      <td>IVE (아이브)</td>\n",
       "      <td>It's our time 우린 달라 특별한 게 좋아 Oh What a good ti...</td>\n",
       "      <td>댄스</td>\n",
       "    </tr>\n",
       "    <tr>\n",
       "      <th>4</th>\n",
       "      <td>퀸카 (Queencard)</td>\n",
       "      <td>(여자)아이들</td>\n",
       "      <td>Hey you 뭘 보니? 내가 좀 Sexy Sexy 반했니 Ye you 뭐 하니? ...</td>\n",
       "      <td>댄스</td>\n",
       "    </tr>\n",
       "  </tbody>\n",
       "</table>\n",
       "</div>"
      ],
      "text/plain": [
       "                                제목                  가수  \\\n",
       "0                             I AM           IVE (아이브)   \n",
       "1  UNFORGIVEN (feat. Nile Rodgers)  LE SSERAFIM (르세라핌)   \n",
       "2                            Spicy               aespa   \n",
       "3                           Kitsch           IVE (아이브)   \n",
       "4                   퀸카 (Queencard)             (여자)아이들   \n",
       "\n",
       "                                                  가사  장르  \n",
       "0  다른 문을 열어 따라 갈 필요는 없어 넌 너의 길로 난 나의 길로 음 하루하루마다 ...  댄스  \n",
       "1  Unforgiven I’m a villain I’m a Unforgiven 난 그 ...  댄스  \n",
       "2  Uh Uh Too Spicy You want my A to the Z But you...  댄스  \n",
       "3  It's our time 우린 달라 특별한 게 좋아 Oh What a good ti...  댄스  \n",
       "4  Hey you 뭘 보니? 내가 좀 Sexy Sexy 반했니 Ye you 뭐 하니? ...  댄스  "
      ]
     },
     "execution_count": 43,
     "metadata": {},
     "output_type": "execute_result"
    }
   ],
   "source": [
    "melon.head()"
   ]
  },
  {
   "cell_type": "code",
   "execution_count": null,
   "id": "5d0c3991",
   "metadata": {},
   "outputs": [],
   "source": []
  },
  {
   "cell_type": "code",
   "execution_count": null,
   "id": "6f2702b2",
   "metadata": {},
   "outputs": [],
   "source": []
  },
  {
   "cell_type": "markdown",
   "id": "c073c31a",
   "metadata": {},
   "source": [
    "### 텍스트 요약, 확률 추출 했다 치고"
   ]
  },
  {
   "cell_type": "code",
   "execution_count": 79,
   "id": "926f1791",
   "metadata": {},
   "outputs": [
    {
     "name": "stdout",
     "output_type": "stream",
     "text": [
      "나 오늘 기분이 좋아 왜냐면 날씨가 끝내주거든~\n"
     ]
    }
   ],
   "source": [
    "# 인풋 문장\n",
    "answer = str(input())"
   ]
  },
  {
   "cell_type": "code",
   "execution_count": 80,
   "id": "2df27cda",
   "metadata": {},
   "outputs": [
    {
     "name": "stderr",
     "output_type": "stream",
     "text": [
      "/var/folders/b3/8jtn5cn524d51_8gv1y961sw0000gn/T/ipykernel_48561/1341198845.py:2: FutureWarning: The frame.append method is deprecated and will be removed from pandas in a future version. Use pandas.concat instead.\n",
      "  text_list = melon.append({'제목': answer, '가수': 0, '가사': answer, '장르': 0}, ignore_index=True)\n"
     ]
    }
   ],
   "source": [
    "# text_list에 요약된 가사 정보가 들어간다고 가정하고,\n",
    "text_list = melon.append({'제목': answer, '가수': 0, '가사': answer, '장르': 0}, ignore_index=True)"
   ]
  },
  {
   "cell_type": "code",
   "execution_count": 81,
   "id": "da8f889d",
   "metadata": {
    "scrolled": true
   },
   "outputs": [
    {
     "data": {
      "text/html": [
       "<div>\n",
       "<style scoped>\n",
       "    .dataframe tbody tr th:only-of-type {\n",
       "        vertical-align: middle;\n",
       "    }\n",
       "\n",
       "    .dataframe tbody tr th {\n",
       "        vertical-align: top;\n",
       "    }\n",
       "\n",
       "    .dataframe thead th {\n",
       "        text-align: right;\n",
       "    }\n",
       "</style>\n",
       "<table border=\"1\" class=\"dataframe\">\n",
       "  <thead>\n",
       "    <tr style=\"text-align: right;\">\n",
       "      <th></th>\n",
       "      <th>제목</th>\n",
       "      <th>가수</th>\n",
       "      <th>가사</th>\n",
       "      <th>장르</th>\n",
       "    </tr>\n",
       "  </thead>\n",
       "  <tbody>\n",
       "    <tr>\n",
       "      <th>0</th>\n",
       "      <td>I AM</td>\n",
       "      <td>IVE (아이브)</td>\n",
       "      <td>다른 문을 열어 따라 갈 필요는 없어 넌 너의 길로 난 나의 길로 음 하루하루마다 ...</td>\n",
       "      <td>댄스</td>\n",
       "    </tr>\n",
       "    <tr>\n",
       "      <th>1</th>\n",
       "      <td>UNFORGIVEN (feat. Nile Rodgers)</td>\n",
       "      <td>LE SSERAFIM (르세라핌)</td>\n",
       "      <td>Unforgiven I’m a villain I’m a Unforgiven 난 그 ...</td>\n",
       "      <td>댄스</td>\n",
       "    </tr>\n",
       "    <tr>\n",
       "      <th>2</th>\n",
       "      <td>Spicy</td>\n",
       "      <td>aespa</td>\n",
       "      <td>Uh Uh Too Spicy You want my A to the Z But you...</td>\n",
       "      <td>댄스</td>\n",
       "    </tr>\n",
       "    <tr>\n",
       "      <th>3</th>\n",
       "      <td>Kitsch</td>\n",
       "      <td>IVE (아이브)</td>\n",
       "      <td>It's our time 우린 달라 특별한 게 좋아 Oh What a good ti...</td>\n",
       "      <td>댄스</td>\n",
       "    </tr>\n",
       "    <tr>\n",
       "      <th>4</th>\n",
       "      <td>퀸카 (Queencard)</td>\n",
       "      <td>(여자)아이들</td>\n",
       "      <td>Hey you 뭘 보니? 내가 좀 Sexy Sexy 반했니 Ye you 뭐 하니? ...</td>\n",
       "      <td>댄스</td>\n",
       "    </tr>\n",
       "    <tr>\n",
       "      <th>...</th>\n",
       "      <td>...</td>\n",
       "      <td>...</td>\n",
       "      <td>...</td>\n",
       "      <td>...</td>\n",
       "    </tr>\n",
       "    <tr>\n",
       "      <th>96</th>\n",
       "      <td>I Don't Understand But I Luv U</td>\n",
       "      <td>세븐틴 (SEVENTEEN)</td>\n",
       "      <td>When I Saw you 멈춰버린 공간 예민해진 감각 오직 너 하나 보일 때 내 ...</td>\n",
       "      <td>R&amp;B/Soul</td>\n",
       "    </tr>\n",
       "    <tr>\n",
       "      <th>97</th>\n",
       "      <td>HOT</td>\n",
       "      <td>세븐틴 (SEVENTEEN)</td>\n",
       "      <td>모두 우릴 쳐다봐 (봐) 태양 위를 달리는 마차 (계속 달려 Uh) Juicy Ju...</td>\n",
       "      <td>랩/힙합</td>\n",
       "    </tr>\n",
       "    <tr>\n",
       "      <th>98</th>\n",
       "      <td>Perfume</td>\n",
       "      <td>NCT 도재정</td>\n",
       "      <td>Perfume ooh ooh yeah ay 너의 하룰 향기롭게 꾸며 줄게 걸음 끝에...</td>\n",
       "      <td>R&amp;B/Soul</td>\n",
       "    </tr>\n",
       "    <tr>\n",
       "      <th>99</th>\n",
       "      <td>Fire</td>\n",
       "      <td>세븐틴 (SEVENTEEN)</td>\n",
       "      <td>조심해 손 델라 눈떠도 코 베인다 먼저 얘네들부터 제친 다음 내 차례는 오케이야 자...</td>\n",
       "      <td>랩/힙합</td>\n",
       "    </tr>\n",
       "    <tr>\n",
       "      <th>100</th>\n",
       "      <td>나 오늘 기분이 좋아 왜냐면 날씨가 끝내주거든~</td>\n",
       "      <td>0</td>\n",
       "      <td>나 오늘 기분이 좋아 왜냐면 날씨가 끝내주거든~</td>\n",
       "      <td>0</td>\n",
       "    </tr>\n",
       "  </tbody>\n",
       "</table>\n",
       "<p>101 rows × 4 columns</p>\n",
       "</div>"
      ],
      "text/plain": [
       "                                  제목                  가수  \\\n",
       "0                               I AM           IVE (아이브)   \n",
       "1    UNFORGIVEN (feat. Nile Rodgers)  LE SSERAFIM (르세라핌)   \n",
       "2                              Spicy               aespa   \n",
       "3                             Kitsch           IVE (아이브)   \n",
       "4                     퀸카 (Queencard)             (여자)아이들   \n",
       "..                               ...                 ...   \n",
       "96    I Don't Understand But I Luv U     세븐틴 (SEVENTEEN)   \n",
       "97                               HOT     세븐틴 (SEVENTEEN)   \n",
       "98                           Perfume             NCT 도재정   \n",
       "99                              Fire     세븐틴 (SEVENTEEN)   \n",
       "100       나 오늘 기분이 좋아 왜냐면 날씨가 끝내주거든~                   0   \n",
       "\n",
       "                                                    가사        장르  \n",
       "0    다른 문을 열어 따라 갈 필요는 없어 넌 너의 길로 난 나의 길로 음 하루하루마다 ...        댄스  \n",
       "1    Unforgiven I’m a villain I’m a Unforgiven 난 그 ...        댄스  \n",
       "2    Uh Uh Too Spicy You want my A to the Z But you...        댄스  \n",
       "3    It's our time 우린 달라 특별한 게 좋아 Oh What a good ti...        댄스  \n",
       "4    Hey you 뭘 보니? 내가 좀 Sexy Sexy 반했니 Ye you 뭐 하니? ...        댄스  \n",
       "..                                                 ...       ...  \n",
       "96   When I Saw you 멈춰버린 공간 예민해진 감각 오직 너 하나 보일 때 내 ...  R&B/Soul  \n",
       "97   모두 우릴 쳐다봐 (봐) 태양 위를 달리는 마차 (계속 달려 Uh) Juicy Ju...      랩/힙합  \n",
       "98   Perfume ooh ooh yeah ay 너의 하룰 향기롭게 꾸며 줄게 걸음 끝에...  R&B/Soul  \n",
       "99   조심해 손 델라 눈떠도 코 베인다 먼저 얘네들부터 제친 다음 내 차례는 오케이야 자...      랩/힙합  \n",
       "100                         나 오늘 기분이 좋아 왜냐면 날씨가 끝내주거든~         0  \n",
       "\n",
       "[101 rows x 4 columns]"
      ]
     },
     "execution_count": 81,
     "metadata": {},
     "output_type": "execute_result"
    }
   ],
   "source": [
    "text_list"
   ]
  },
  {
   "cell_type": "code",
   "execution_count": 83,
   "id": "d3db758a",
   "metadata": {},
   "outputs": [],
   "source": [
    "tfidf = TfidfVectorizer()\n",
    "tfidf_matrix = tfidf.fit_transform(text_list['가사'])"
   ]
  },
  {
   "cell_type": "code",
   "execution_count": 84,
   "id": "8ebb8dc0",
   "metadata": {},
   "outputs": [
    {
     "data": {
      "text/plain": [
       "(101, 5403)"
      ]
     },
     "execution_count": 84,
     "metadata": {},
     "output_type": "execute_result"
    }
   ],
   "source": [
    "tfidf_matrix.shape"
   ]
  },
  {
   "cell_type": "code",
   "execution_count": 85,
   "id": "6130609e",
   "metadata": {},
   "outputs": [
    {
     "data": {
      "text/plain": [
       "array([[1.        , 0.03993187, 0.03256745, ..., 0.03359158, 0.05297097,\n",
       "        0.        ],\n",
       "       [0.03993187, 1.        , 0.01439485, ..., 0.01126795, 0.03358663,\n",
       "        0.        ],\n",
       "       [0.03256745, 0.01439485, 1.        , ..., 0.0512682 , 0.04200889,\n",
       "        0.        ],\n",
       "       ...,\n",
       "       [0.03359158, 0.01126795, 0.0512682 , ..., 1.        , 0.02363685,\n",
       "        0.01376943],\n",
       "       [0.05297097, 0.03358663, 0.04200889, ..., 0.02363685, 1.        ,\n",
       "        0.        ],\n",
       "       [0.        , 0.        , 0.        , ..., 0.01376943, 0.        ,\n",
       "        1.        ]])"
      ]
     },
     "execution_count": 85,
     "metadata": {},
     "output_type": "execute_result"
    }
   ],
   "source": [
    "# compute cosine similarity\n",
    "\n",
    "cosine_sim = cosine_similarity(tfidf_matrix, tfidf_matrix)\n",
    "cosine_sim"
   ]
  },
  {
   "cell_type": "code",
   "execution_count": 86,
   "id": "4bbf2e9c",
   "metadata": {},
   "outputs": [
    {
     "name": "stdout",
     "output_type": "stream",
     "text": [
      "제목\n",
      "I AM                               0\n",
      "UNFORGIVEN (feat. Nile Rodgers)    1\n",
      "Spicy                              2\n",
      "dtype: int64\n"
     ]
    }
   ],
   "source": [
    "indices = pd.Series(text_list.index, index=text_list['제목']).drop_duplicates()\n",
    "print(indices.head(3))"
   ]
  },
  {
   "cell_type": "code",
   "execution_count": 89,
   "id": "7442f8e5",
   "metadata": {},
   "outputs": [
    {
     "data": {
      "text/plain": [
       "제목\n",
       "I AM                                 0\n",
       "UNFORGIVEN (feat. Nile Rodgers)      1\n",
       "Spicy                                2\n",
       "Kitsch                               3\n",
       "퀸카 (Queencard)                       4\n",
       "                                  ... \n",
       "I Don't Understand But I Luv U      96\n",
       "HOT                                 97\n",
       "Perfume                             98\n",
       "Fire                                99\n",
       "나 오늘 기분이 좋아 왜냐면 날씨가 끝내주거든~         100\n",
       "Length: 101, dtype: int64"
      ]
     },
     "execution_count": 89,
     "metadata": {},
     "output_type": "execute_result"
    }
   ],
   "source": [
    "indices"
   ]
  },
  {
   "cell_type": "code",
   "execution_count": 94,
   "id": "7862673a",
   "metadata": {},
   "outputs": [],
   "source": [
    "#function to get same songs using cosine similarity\n",
    "\n",
    "def get_similar_songs(title, cosine_sim=cosine_sim):\n",
    "    \n",
    "    # get index from selected song\n",
    "    idx = indices[title]\n",
    "    \n",
    "    # get cosine similarity\n",
    "    sim_scores = list(enumerate(cosine_sim[idx]))\n",
    "    \n",
    "    # sort songs using cosine similarity values\n",
    "    sim_scores = sorted(sim_scores, key=lambda x: x[1], reverse=True)\n",
    "    \n",
    "    # get fice songs from sim_scores list\n",
    "    sim_scores = sim_scores[1:6]\n",
    "    \n",
    "    # get five songs' index number from song list\n",
    "    song_indices = [i[0] for i in sim_scores]\n",
    "    \n",
    "    # return songs\n",
    "    return text_list['제목'].iloc[song_indices]"
   ]
  },
  {
   "cell_type": "code",
   "execution_count": 96,
   "id": "83a652bd",
   "metadata": {},
   "outputs": [
    {
     "data": {
      "text/plain": [
       "85    새삥 (Prod. ZICO) (Feat. 호미들)\n",
       "69                          Candy\n",
       "40                           인생찬가\n",
       "10                       헤어지자 말해요\n",
       "98                        Perfume\n",
       "Name: 제목, dtype: object"
      ]
     },
     "execution_count": 96,
     "metadata": {},
     "output_type": "execute_result"
    }
   ],
   "source": [
    "get_similar_songs(answer)"
   ]
  },
  {
   "cell_type": "code",
   "execution_count": null,
   "id": "3a6de875",
   "metadata": {},
   "outputs": [],
   "source": []
  }
 ],
 "metadata": {
  "kernelspec": {
   "display_name": "Python 3 (ipykernel)",
   "language": "python",
   "name": "python3"
  },
  "language_info": {
   "codemirror_mode": {
    "name": "ipython",
    "version": 3
   },
   "file_extension": ".py",
   "mimetype": "text/x-python",
   "name": "python",
   "nbconvert_exporter": "python",
   "pygments_lexer": "ipython3",
   "version": "3.9.13"
  }
 },
 "nbformat": 4,
 "nbformat_minor": 5
}
